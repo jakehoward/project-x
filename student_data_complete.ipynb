{
 "cells": [
  {
   "cell_type": "markdown",
   "metadata": {},
   "source": [
    "### This is the Student Alcohol Consumption dataset from Kaggle. It contains demographic,  social and academic information relating to students in a maths course at two secondary schools in Portugal."
   ]
  },
  {
   "cell_type": "code",
   "execution_count": 1,
   "metadata": {},
   "outputs": [
    {
     "name": "stderr",
     "output_type": "stream",
     "text": [
      "/anaconda3/lib/python3.7/site-packages/sklearn/cross_validation.py:41: DeprecationWarning: This module was deprecated in version 0.18 in favor of the model_selection module into which all the refactored classes and functions are moved. Also note that the interface of the new CV iterators are different from that of this module. This module will be removed in 0.20.\n",
      "  \"This module will be removed in 0.20.\", DeprecationWarning)\n"
     ]
    }
   ],
   "source": [
    "import pandas as pd\n",
    "import matplotlib.pyplot as plt\n",
    "import numpy as np\n",
    "import seaborn as sns\n",
    "\n",
    "from sklearn import tree\n",
    "from sklearn.tree import DecisionTreeClassifier\n",
    "from sklearn.tree import export_graphviz\n",
    "from sklearn.model_selection import train_test_split\n",
    "from sklearn.metrics import accuracy_score\n",
    "from sklearn.cross_validation import cross_val_score, cross_val_predict\n",
    "from sklearn.linear_model import LogisticRegression\n",
    "from sklearn import metrics\n",
    "from sklearn.preprocessing import binarize\n",
    "from sklearn.metrics import confusion_matrix\n",
    "\n",
    "%matplotlib inline\n",
    "\n",
    "import graphviz\n",
    "import pydotplus\n",
    "import io\n",
    "from scipy import misc"
   ]
  },
  {
   "cell_type": "code",
   "execution_count": 2,
   "metadata": {},
   "outputs": [
    {
     "data": {
      "text/html": [
       "<div>\n",
       "<style scoped>\n",
       "    .dataframe tbody tr th:only-of-type {\n",
       "        vertical-align: middle;\n",
       "    }\n",
       "\n",
       "    .dataframe tbody tr th {\n",
       "        vertical-align: top;\n",
       "    }\n",
       "\n",
       "    .dataframe thead th {\n",
       "        text-align: right;\n",
       "    }\n",
       "</style>\n",
       "<table border=\"1\" class=\"dataframe\">\n",
       "  <thead>\n",
       "    <tr style=\"text-align: right;\">\n",
       "      <th></th>\n",
       "      <th>school</th>\n",
       "      <th>sex</th>\n",
       "      <th>age</th>\n",
       "      <th>address</th>\n",
       "      <th>famsize</th>\n",
       "      <th>Pstatus</th>\n",
       "      <th>Medu</th>\n",
       "      <th>Fedu</th>\n",
       "      <th>Mjob</th>\n",
       "      <th>Fjob</th>\n",
       "      <th>...</th>\n",
       "      <th>famrel</th>\n",
       "      <th>freetime</th>\n",
       "      <th>goout</th>\n",
       "      <th>Dalc</th>\n",
       "      <th>Walc</th>\n",
       "      <th>health</th>\n",
       "      <th>absences</th>\n",
       "      <th>G1</th>\n",
       "      <th>G2</th>\n",
       "      <th>G3</th>\n",
       "    </tr>\n",
       "  </thead>\n",
       "  <tbody>\n",
       "    <tr>\n",
       "      <th>0</th>\n",
       "      <td>GP</td>\n",
       "      <td>F</td>\n",
       "      <td>18</td>\n",
       "      <td>U</td>\n",
       "      <td>GT3</td>\n",
       "      <td>A</td>\n",
       "      <td>4</td>\n",
       "      <td>4</td>\n",
       "      <td>at_home</td>\n",
       "      <td>teacher</td>\n",
       "      <td>...</td>\n",
       "      <td>4</td>\n",
       "      <td>3</td>\n",
       "      <td>4</td>\n",
       "      <td>1</td>\n",
       "      <td>1</td>\n",
       "      <td>3</td>\n",
       "      <td>6</td>\n",
       "      <td>5</td>\n",
       "      <td>6</td>\n",
       "      <td>6</td>\n",
       "    </tr>\n",
       "    <tr>\n",
       "      <th>1</th>\n",
       "      <td>GP</td>\n",
       "      <td>F</td>\n",
       "      <td>17</td>\n",
       "      <td>U</td>\n",
       "      <td>GT3</td>\n",
       "      <td>T</td>\n",
       "      <td>1</td>\n",
       "      <td>1</td>\n",
       "      <td>at_home</td>\n",
       "      <td>other</td>\n",
       "      <td>...</td>\n",
       "      <td>5</td>\n",
       "      <td>3</td>\n",
       "      <td>3</td>\n",
       "      <td>1</td>\n",
       "      <td>1</td>\n",
       "      <td>3</td>\n",
       "      <td>4</td>\n",
       "      <td>5</td>\n",
       "      <td>5</td>\n",
       "      <td>6</td>\n",
       "    </tr>\n",
       "    <tr>\n",
       "      <th>2</th>\n",
       "      <td>GP</td>\n",
       "      <td>F</td>\n",
       "      <td>15</td>\n",
       "      <td>U</td>\n",
       "      <td>LE3</td>\n",
       "      <td>T</td>\n",
       "      <td>1</td>\n",
       "      <td>1</td>\n",
       "      <td>at_home</td>\n",
       "      <td>other</td>\n",
       "      <td>...</td>\n",
       "      <td>4</td>\n",
       "      <td>3</td>\n",
       "      <td>2</td>\n",
       "      <td>2</td>\n",
       "      <td>3</td>\n",
       "      <td>3</td>\n",
       "      <td>10</td>\n",
       "      <td>7</td>\n",
       "      <td>8</td>\n",
       "      <td>10</td>\n",
       "    </tr>\n",
       "    <tr>\n",
       "      <th>3</th>\n",
       "      <td>GP</td>\n",
       "      <td>F</td>\n",
       "      <td>15</td>\n",
       "      <td>U</td>\n",
       "      <td>GT3</td>\n",
       "      <td>T</td>\n",
       "      <td>4</td>\n",
       "      <td>2</td>\n",
       "      <td>health</td>\n",
       "      <td>services</td>\n",
       "      <td>...</td>\n",
       "      <td>3</td>\n",
       "      <td>2</td>\n",
       "      <td>2</td>\n",
       "      <td>1</td>\n",
       "      <td>1</td>\n",
       "      <td>5</td>\n",
       "      <td>2</td>\n",
       "      <td>15</td>\n",
       "      <td>14</td>\n",
       "      <td>15</td>\n",
       "    </tr>\n",
       "    <tr>\n",
       "      <th>4</th>\n",
       "      <td>GP</td>\n",
       "      <td>F</td>\n",
       "      <td>16</td>\n",
       "      <td>U</td>\n",
       "      <td>GT3</td>\n",
       "      <td>T</td>\n",
       "      <td>3</td>\n",
       "      <td>3</td>\n",
       "      <td>other</td>\n",
       "      <td>other</td>\n",
       "      <td>...</td>\n",
       "      <td>4</td>\n",
       "      <td>3</td>\n",
       "      <td>2</td>\n",
       "      <td>1</td>\n",
       "      <td>2</td>\n",
       "      <td>5</td>\n",
       "      <td>4</td>\n",
       "      <td>6</td>\n",
       "      <td>10</td>\n",
       "      <td>10</td>\n",
       "    </tr>\n",
       "  </tbody>\n",
       "</table>\n",
       "<p>5 rows × 33 columns</p>\n",
       "</div>"
      ],
      "text/plain": [
       "  school sex  age address famsize Pstatus  Medu  Fedu     Mjob      Fjob ...  \\\n",
       "0     GP   F   18       U     GT3       A     4     4  at_home   teacher ...   \n",
       "1     GP   F   17       U     GT3       T     1     1  at_home     other ...   \n",
       "2     GP   F   15       U     LE3       T     1     1  at_home     other ...   \n",
       "3     GP   F   15       U     GT3       T     4     2   health  services ...   \n",
       "4     GP   F   16       U     GT3       T     3     3    other     other ...   \n",
       "\n",
       "  famrel freetime  goout  Dalc  Walc health absences  G1  G2  G3  \n",
       "0      4        3      4     1     1      3        6   5   6   6  \n",
       "1      5        3      3     1     1      3        4   5   5   6  \n",
       "2      4        3      2     2     3      3       10   7   8  10  \n",
       "3      3        2      2     1     1      5        2  15  14  15  \n",
       "4      4        3      2     1     2      5        4   6  10  10  \n",
       "\n",
       "[5 rows x 33 columns]"
      ]
     },
     "execution_count": 2,
     "metadata": {},
     "output_type": "execute_result"
    }
   ],
   "source": [
    "df = pd.read_csv(\"data/student-alcohol-maths.csv\")\n",
    "df.head()"
   ]
  },
  {
   "cell_type": "code",
   "execution_count": 3,
   "metadata": {},
   "outputs": [
    {
     "data": {
      "text/plain": [
       "(395, 33)"
      ]
     },
     "execution_count": 3,
     "metadata": {},
     "output_type": "execute_result"
    }
   ],
   "source": [
    "df.shape"
   ]
  },
  {
   "cell_type": "code",
   "execution_count": 4,
   "metadata": {},
   "outputs": [
    {
     "data": {
      "text/html": [
       "<div>\n",
       "<style scoped>\n",
       "    .dataframe tbody tr th:only-of-type {\n",
       "        vertical-align: middle;\n",
       "    }\n",
       "\n",
       "    .dataframe tbody tr th {\n",
       "        vertical-align: top;\n",
       "    }\n",
       "\n",
       "    .dataframe thead th {\n",
       "        text-align: right;\n",
       "    }\n",
       "</style>\n",
       "<table border=\"1\" class=\"dataframe\">\n",
       "  <thead>\n",
       "    <tr style=\"text-align: right;\">\n",
       "      <th></th>\n",
       "      <th>age</th>\n",
       "      <th>Medu</th>\n",
       "      <th>Fedu</th>\n",
       "      <th>traveltime</th>\n",
       "      <th>studytime</th>\n",
       "      <th>failures</th>\n",
       "      <th>famrel</th>\n",
       "      <th>freetime</th>\n",
       "      <th>goout</th>\n",
       "      <th>Dalc</th>\n",
       "      <th>Walc</th>\n",
       "      <th>health</th>\n",
       "      <th>absences</th>\n",
       "      <th>G1</th>\n",
       "      <th>G2</th>\n",
       "      <th>G3</th>\n",
       "    </tr>\n",
       "  </thead>\n",
       "  <tbody>\n",
       "    <tr>\n",
       "      <th>count</th>\n",
       "      <td>395.000000</td>\n",
       "      <td>395.000000</td>\n",
       "      <td>395.000000</td>\n",
       "      <td>395.000000</td>\n",
       "      <td>395.000000</td>\n",
       "      <td>395.000000</td>\n",
       "      <td>395.000000</td>\n",
       "      <td>395.000000</td>\n",
       "      <td>395.000000</td>\n",
       "      <td>395.000000</td>\n",
       "      <td>395.000000</td>\n",
       "      <td>395.000000</td>\n",
       "      <td>395.000000</td>\n",
       "      <td>395.000000</td>\n",
       "      <td>395.000000</td>\n",
       "      <td>395.000000</td>\n",
       "    </tr>\n",
       "    <tr>\n",
       "      <th>mean</th>\n",
       "      <td>16.696203</td>\n",
       "      <td>2.749367</td>\n",
       "      <td>2.521519</td>\n",
       "      <td>1.448101</td>\n",
       "      <td>2.035443</td>\n",
       "      <td>0.334177</td>\n",
       "      <td>3.944304</td>\n",
       "      <td>3.235443</td>\n",
       "      <td>3.108861</td>\n",
       "      <td>1.481013</td>\n",
       "      <td>2.291139</td>\n",
       "      <td>3.554430</td>\n",
       "      <td>5.708861</td>\n",
       "      <td>10.908861</td>\n",
       "      <td>10.713924</td>\n",
       "      <td>10.415190</td>\n",
       "    </tr>\n",
       "    <tr>\n",
       "      <th>std</th>\n",
       "      <td>1.276043</td>\n",
       "      <td>1.094735</td>\n",
       "      <td>1.088201</td>\n",
       "      <td>0.697505</td>\n",
       "      <td>0.839240</td>\n",
       "      <td>0.743651</td>\n",
       "      <td>0.896659</td>\n",
       "      <td>0.998862</td>\n",
       "      <td>1.113278</td>\n",
       "      <td>0.890741</td>\n",
       "      <td>1.287897</td>\n",
       "      <td>1.390303</td>\n",
       "      <td>8.003096</td>\n",
       "      <td>3.319195</td>\n",
       "      <td>3.761505</td>\n",
       "      <td>4.581443</td>\n",
       "    </tr>\n",
       "    <tr>\n",
       "      <th>min</th>\n",
       "      <td>15.000000</td>\n",
       "      <td>0.000000</td>\n",
       "      <td>0.000000</td>\n",
       "      <td>1.000000</td>\n",
       "      <td>1.000000</td>\n",
       "      <td>0.000000</td>\n",
       "      <td>1.000000</td>\n",
       "      <td>1.000000</td>\n",
       "      <td>1.000000</td>\n",
       "      <td>1.000000</td>\n",
       "      <td>1.000000</td>\n",
       "      <td>1.000000</td>\n",
       "      <td>0.000000</td>\n",
       "      <td>3.000000</td>\n",
       "      <td>0.000000</td>\n",
       "      <td>0.000000</td>\n",
       "    </tr>\n",
       "    <tr>\n",
       "      <th>25%</th>\n",
       "      <td>16.000000</td>\n",
       "      <td>2.000000</td>\n",
       "      <td>2.000000</td>\n",
       "      <td>1.000000</td>\n",
       "      <td>1.000000</td>\n",
       "      <td>0.000000</td>\n",
       "      <td>4.000000</td>\n",
       "      <td>3.000000</td>\n",
       "      <td>2.000000</td>\n",
       "      <td>1.000000</td>\n",
       "      <td>1.000000</td>\n",
       "      <td>3.000000</td>\n",
       "      <td>0.000000</td>\n",
       "      <td>8.000000</td>\n",
       "      <td>9.000000</td>\n",
       "      <td>8.000000</td>\n",
       "    </tr>\n",
       "    <tr>\n",
       "      <th>50%</th>\n",
       "      <td>17.000000</td>\n",
       "      <td>3.000000</td>\n",
       "      <td>2.000000</td>\n",
       "      <td>1.000000</td>\n",
       "      <td>2.000000</td>\n",
       "      <td>0.000000</td>\n",
       "      <td>4.000000</td>\n",
       "      <td>3.000000</td>\n",
       "      <td>3.000000</td>\n",
       "      <td>1.000000</td>\n",
       "      <td>2.000000</td>\n",
       "      <td>4.000000</td>\n",
       "      <td>4.000000</td>\n",
       "      <td>11.000000</td>\n",
       "      <td>11.000000</td>\n",
       "      <td>11.000000</td>\n",
       "    </tr>\n",
       "    <tr>\n",
       "      <th>75%</th>\n",
       "      <td>18.000000</td>\n",
       "      <td>4.000000</td>\n",
       "      <td>3.000000</td>\n",
       "      <td>2.000000</td>\n",
       "      <td>2.000000</td>\n",
       "      <td>0.000000</td>\n",
       "      <td>5.000000</td>\n",
       "      <td>4.000000</td>\n",
       "      <td>4.000000</td>\n",
       "      <td>2.000000</td>\n",
       "      <td>3.000000</td>\n",
       "      <td>5.000000</td>\n",
       "      <td>8.000000</td>\n",
       "      <td>13.000000</td>\n",
       "      <td>13.000000</td>\n",
       "      <td>14.000000</td>\n",
       "    </tr>\n",
       "    <tr>\n",
       "      <th>max</th>\n",
       "      <td>22.000000</td>\n",
       "      <td>4.000000</td>\n",
       "      <td>4.000000</td>\n",
       "      <td>4.000000</td>\n",
       "      <td>4.000000</td>\n",
       "      <td>3.000000</td>\n",
       "      <td>5.000000</td>\n",
       "      <td>5.000000</td>\n",
       "      <td>5.000000</td>\n",
       "      <td>5.000000</td>\n",
       "      <td>5.000000</td>\n",
       "      <td>5.000000</td>\n",
       "      <td>75.000000</td>\n",
       "      <td>19.000000</td>\n",
       "      <td>19.000000</td>\n",
       "      <td>20.000000</td>\n",
       "    </tr>\n",
       "  </tbody>\n",
       "</table>\n",
       "</div>"
      ],
      "text/plain": [
       "              age        Medu        Fedu  traveltime   studytime    failures  \\\n",
       "count  395.000000  395.000000  395.000000  395.000000  395.000000  395.000000   \n",
       "mean    16.696203    2.749367    2.521519    1.448101    2.035443    0.334177   \n",
       "std      1.276043    1.094735    1.088201    0.697505    0.839240    0.743651   \n",
       "min     15.000000    0.000000    0.000000    1.000000    1.000000    0.000000   \n",
       "25%     16.000000    2.000000    2.000000    1.000000    1.000000    0.000000   \n",
       "50%     17.000000    3.000000    2.000000    1.000000    2.000000    0.000000   \n",
       "75%     18.000000    4.000000    3.000000    2.000000    2.000000    0.000000   \n",
       "max     22.000000    4.000000    4.000000    4.000000    4.000000    3.000000   \n",
       "\n",
       "           famrel    freetime       goout        Dalc        Walc      health  \\\n",
       "count  395.000000  395.000000  395.000000  395.000000  395.000000  395.000000   \n",
       "mean     3.944304    3.235443    3.108861    1.481013    2.291139    3.554430   \n",
       "std      0.896659    0.998862    1.113278    0.890741    1.287897    1.390303   \n",
       "min      1.000000    1.000000    1.000000    1.000000    1.000000    1.000000   \n",
       "25%      4.000000    3.000000    2.000000    1.000000    1.000000    3.000000   \n",
       "50%      4.000000    3.000000    3.000000    1.000000    2.000000    4.000000   \n",
       "75%      5.000000    4.000000    4.000000    2.000000    3.000000    5.000000   \n",
       "max      5.000000    5.000000    5.000000    5.000000    5.000000    5.000000   \n",
       "\n",
       "         absences          G1          G2          G3  \n",
       "count  395.000000  395.000000  395.000000  395.000000  \n",
       "mean     5.708861   10.908861   10.713924   10.415190  \n",
       "std      8.003096    3.319195    3.761505    4.581443  \n",
       "min      0.000000    3.000000    0.000000    0.000000  \n",
       "25%      0.000000    8.000000    9.000000    8.000000  \n",
       "50%      4.000000   11.000000   11.000000   11.000000  \n",
       "75%      8.000000   13.000000   13.000000   14.000000  \n",
       "max     75.000000   19.000000   19.000000   20.000000  "
      ]
     },
     "execution_count": 4,
     "metadata": {},
     "output_type": "execute_result"
    }
   ],
   "source": [
    "df.describe()"
   ]
  },
  {
   "cell_type": "markdown",
   "metadata": {},
   "source": [
    "### Total numbers of students in the study & student numbers, by school"
   ]
  },
  {
   "cell_type": "code",
   "execution_count": 5,
   "metadata": {},
   "outputs": [
    {
     "name": "stdout",
     "output_type": "stream",
     "text": [
      "Total number of student records:  395\n",
      "Percentage of students from Gabriel Pereira (GP) school: 88.35%\n",
      "Percentage of students from Mousinho da Silveira (MS): 11.65%%\n"
     ]
    }
   ],
   "source": [
    "num_total = len(df)\n",
    "\n",
    "#Number of GP students\n",
    "num_gp = df[\"school\"].value_counts()[\"GP\"]\n",
    "\n",
    "#Number of MS students\n",
    "num_ms = df[\"school\"].value_counts()[\"MS\"]\n",
    "\n",
    "print(\"Total number of student records: \", num_total)\n",
    "print(\"Percentage of students from Gabriel Pereira (GP) school: {0:.2%}\".format(num_gp / num_total))\n",
    "print(\"Percentage of students from Mousinho da Silveira (MS): {0:.2%}%\".format(num_ms / num_total))"
   ]
  },
  {
   "cell_type": "markdown",
   "metadata": {},
   "source": [
    "### Percentage of boys & girls in the study. "
   ]
  },
  {
   "cell_type": "code",
   "execution_count": 6,
   "metadata": {},
   "outputs": [
    {
     "name": "stdout",
     "output_type": "stream",
     "text": [
      "% of girls in the study: 52.66%\n",
      "% of boys in the study: 47.34%\n"
     ]
    }
   ],
   "source": [
    "num_total = len(df)\n",
    "\n",
    "#Number of girls in the study\n",
    "girls = df[\"sex\"].value_counts()[\"F\"]\n",
    "\n",
    "#Number of boys in the study\n",
    "boys = df[\"sex\"].value_counts()[\"M\"]\n",
    "\n",
    "print(\"% of girls in the study: {0:.2%}\".format(girls / num_total))\n",
    "print(\"% of boys in the study: {0:.2%}\".format(boys / num_total))"
   ]
  },
  {
   "cell_type": "markdown",
   "metadata": {},
   "source": [
    "### This plots a summary of all the study features."
   ]
  },
  {
   "cell_type": "code",
   "execution_count": 7,
   "metadata": {},
   "outputs": [
    {
     "data": {
      "text/plain": [
       "<matplotlib.axes._subplots.AxesSubplot at 0x1a1e3a0da0>"
      ]
     },
     "execution_count": 7,
     "metadata": {},
     "output_type": "execute_result"
    },
    {
     "data": {
      "image/png": "[encoded data removed]",
      "text/plain": [
       "<Figure size 1440x3600 with 33 Axes>"
      ]
     },
     "metadata": {
      "needs_background": "light"
     },
     "output_type": "display_data"
    }
   ],
   "source": [
    "#Setting up a figure to accomodate the 30 features given in the dataset, in 30 subplots. \n",
    "fig, axes = plt.subplots(nrows=11, ncols=3, figsize=(20,50))\n",
    "fig.tight_layout(pad=0.4, w_pad=1.5, h_pad=6)\n",
    "\n",
    "#sex\n",
    "gender = (df[\"sex\"].value_counts() / df[\"sex\"].count()) * 100\n",
    "gender.plot(kind=\"bar\", ax=axes[0,0])\n",
    "\n",
    "#age\n",
    "age = (df[\"age\"].value_counts() / df[\"age\"].count()) * 100\n",
    "age.sort_index().plot(kind=\"bar\", ax=axes[0,1])\n",
    "\n",
    "#address\n",
    "address = (df[\"address\"].value_counts() / df[\"address\"].count()) * 100\n",
    "address.sort_index().plot(kind=\"bar\", ax=axes[0,2])\n",
    "\n",
    "\n",
    "#weekend alcohol consumption\n",
    "walc = (df[\"Walc\"].value_counts() / df[\"Walc\"].count()) * 100\n",
    "walc.sort_index().plot(kind=\"bar\", ax=axes[1,0])\n",
    "\n",
    "#daily alcohol consumption\n",
    "dalc = (df[\"Dalc\"].value_counts() / df[\"Dalc\"].count()) * 100\n",
    "dalc.sort_index().plot(kind=\"bar\", ax=axes[1,1])\n",
    "\n",
    "#current health status\n",
    "health = (df[\"health\"].value_counts() / df[\"health\"].count()) * 100\n",
    "health.sort_index().plot(kind=\"bar\", ax=axes[1,2])\n",
    "\n",
    "\n",
    "#parents cohabitation status\n",
    "pstatus = (df[\"Pstatus\"].value_counts() / df[\"Pstatus\"].count()) * 100\n",
    "pstatus.plot(kind=\"bar\", ax=axes[2,0])\n",
    "\n",
    "#mother's education\n",
    "medu = (df[\"Medu\"].value_counts() / df[\"Medu\"].count()) * 100\n",
    "medu.sort_index().plot(kind=\"bar\", ax=axes[2,1])\n",
    "\n",
    "#father's education\n",
    "fedu = (df[\"Fedu\"].value_counts() / df[\"Fedu\"].count()) * 100\n",
    "fedu.sort_index().plot(kind=\"bar\", ax=axes[2,2])\n",
    "\n",
    "\n",
    "#mother's job\n",
    "mjob = (df[\"Mjob\"].value_counts() / df[\"Mjob\"].count()) * 100\n",
    "mjob.sort_index().plot(kind=\"bar\", ax=axes[3,0])\n",
    "\n",
    "#father's job\n",
    "fjob = (df[\"Fjob\"].value_counts() / df[\"Fjob\"].count()) * 100\n",
    "fjob.sort_index().plot(kind=\"bar\", ax=axes[3,1])\n",
    "\n",
    "#student's guardian\n",
    "guardian = (df[\"guardian\"].value_counts() / df[\"guardian\"].count()) * 100\n",
    "guardian.plot(kind=\"bar\", ax=axes[3,2])\n",
    "\n",
    "\n",
    "#number of school absences\n",
    "absences = df[\"absences\"].value_counts()\n",
    "absences.plot(kind=\"hist\", bins=10, ax=axes[4,0])\n",
    "\n",
    "#family education support\n",
    "famsup = (df[\"famsup\"].value_counts() / df[\"famsup\"].count()) * 100\n",
    "famsup.sort_index().plot(kind=\"bar\", ax=axes[4,1])\n",
    "\n",
    "#no of past class failures\n",
    "failures = (df[\"failures\"].value_counts() / df[\"failures\"].count()) * 100\n",
    "failures.sort_index().plot(kind=\"bar\", ax=axes[4,2])\n",
    "\n",
    "\n",
    "#family size\n",
    "famsize = (df[\"famsize\"].value_counts() / df[\"famsize\"].count()) * 100\n",
    "famsize.plot(kind=\"bar\", ax=axes[5,0])\n",
    "\n",
    "#quality of family relationships\n",
    "famrel = (df[\"famrel\"].value_counts() / df[\"famrel\"].count()) * 100\n",
    "famrel.sort_index().plot(kind=\"bar\", ax=axes[5,1])\n",
    "\n",
    "#with a romantic relationship\n",
    "romantic = (df[\"romantic\"].value_counts() / df[\"romantic\"].count()) * 100\n",
    "romantic.sort_index().plot(kind=\"bar\", ax=axes[5,2])\n",
    "\n",
    "\n",
    "#reason to choose the school\n",
    "reason = (df[\"reason\"].value_counts() / df[\"reason\"].count()) * 100\n",
    "reason.plot(kind=\"bar\", ax=axes[6,0])\n",
    "\n",
    "#home to school travel time\n",
    "traveltime = (df[\"traveltime\"].value_counts() / df[\"traveltime\"].count()) * 100\n",
    "traveltime.sort_index().plot(kind=\"bar\", ax=axes[6,1])\n",
    "\n",
    "#extra educational support\n",
    "schoolsup = (df[\"schoolsup\"].value_counts() / df[\"schoolsup\"].count()) * 100\n",
    "schoolsup.sort_index().plot(kind=\"bar\", ax=axes[6,2])\n",
    "\n",
    "\n",
    "#weekly study time\n",
    "studytime = (df[\"studytime\"].value_counts() / df[\"studytime\"].count()) * 100\n",
    "studytime.sort_index().plot(kind=\"bar\", ax=axes[7,0])\n",
    "\n",
    "#extra paid classes in Maths\n",
    "paid = (df[\"paid\"].value_counts() / df[\"paid\"].count()) * 100\n",
    "paid.sort_index().plot(kind=\"bar\", ax=axes[7,1])\n",
    "\n",
    "#extra curricular activities\n",
    "activities = (df[\"activities\"].value_counts() / df[\"activities\"].count()) * 100\n",
    "activities.sort_index().plot(kind=\"bar\", ax=axes[7,2])\n",
    "\n",
    "\n",
    "#internet access at home\n",
    "internet = (df[\"internet\"].value_counts() / df[\"internet\"].count()) * 100\n",
    "internet.sort_index().plot(kind=\"bar\", ax=axes[8,0])\n",
    "\n",
    "#free time after school\n",
    "freetime = (df[\"freetime\"].value_counts() / df[\"freetime\"].count()) * 100\n",
    "freetime.sort_index().plot(kind=\"bar\", ax=axes[8,1])\n",
    "\n",
    "#going out with friends\n",
    "goout = (df[\"goout\"].value_counts() / df[\"goout\"].count()) * 100\n",
    "goout.sort_index().plot(kind=\"bar\", ax=axes[8,2])\n",
    "\n",
    "\n",
    "#attended nursery school\n",
    "nursery = (df[\"nursery\"].value_counts() / df[\"nursery\"].count()) * 100\n",
    "nursery.sort_index().plot(kind=\"bar\", ax=axes[9,0])\n",
    "\n",
    "#wants to take higher education\n",
    "higher = (df[\"higher\"].value_counts() / df[\"higher\"].count()) * 100\n",
    "higher.sort_index().plot(kind=\"bar\", ax=axes[9,1])\n",
    "\n",
    "#student's school\n",
    "school = (df[\"school\"].value_counts() / df[\"school\"].count()) * 100\n",
    "school.sort_index().plot(kind=\"bar\", ax=axes[9,2])\n",
    "\n",
    "\n",
    "#first period grade\n",
    "g1 = df[\"G1\"].value_counts()\n",
    "g1.plot(kind=\"hist\", bins=10, ax=axes[10,0])\n",
    "\n",
    "#second period grade\n",
    "g2 = df[\"G2\"].value_counts()\n",
    "g2.plot(kind=\"hist\", bins=10, ax=axes[10, 1])\n",
    "\n",
    "#final grade\n",
    "g3 = df[\"G3\"].value_counts()\n",
    "g3.plot(kind=\"hist\", bins=10, ax=axes[10, 2])"
   ]
  },
  {
   "cell_type": "markdown",
   "metadata": {},
   "source": [
    "### Setting up the Decision Tree Classifier model using selected features. Aim is to predict the gender of a student based on the features given below."
   ]
  },
  {
   "cell_type": "code",
   "execution_count": 8,
   "metadata": {},
   "outputs": [],
   "source": [
    "#define features and target variable for the model\n",
    "features = [\"age\", \"Walc\", \"health\", \"absences\", \"G3\", \"studytime\", \"failures\"]\n",
    "target = [\"sex\"]"
   ]
  },
  {
   "cell_type": "code",
   "execution_count": 9,
   "metadata": {},
   "outputs": [],
   "source": [
    "#separate dataset into training and testing datasets.\n",
    "train, test = train_test_split(df, test_size = 0.2, random_state=42)"
   ]
  },
  {
   "cell_type": "code",
   "execution_count": 10,
   "metadata": {},
   "outputs": [
    {
     "name": "stdout",
     "output_type": "stream",
     "text": [
      "Training size: 316; Test size: 79\n"
     ]
    }
   ],
   "source": [
    "print(\"Training size: {}; Test size: {}\".format(len(train), len(test)))"
   ]
  },
  {
   "cell_type": "code",
   "execution_count": 11,
   "metadata": {},
   "outputs": [
    {
     "data": {
      "text/plain": [
       "(316, 33)"
      ]
     },
     "execution_count": 11,
     "metadata": {},
     "output_type": "execute_result"
    }
   ],
   "source": [
    "train.shape"
   ]
  },
  {
   "cell_type": "code",
   "execution_count": 12,
   "metadata": {},
   "outputs": [],
   "source": [
    "#decision tree classifier with max depth\n",
    "clf = DecisionTreeClassifier(max_depth=3)"
   ]
  },
  {
   "cell_type": "code",
   "execution_count": 13,
   "metadata": {},
   "outputs": [],
   "source": [
    "#define features, target variable by training/testing datasets.\n",
    "X_train=train[features]\n",
    "y_train=train[target]\n",
    "\n",
    "X_test=test[features]\n",
    "y_test=test[target]"
   ]
  },
  {
   "cell_type": "code",
   "execution_count": 14,
   "metadata": {},
   "outputs": [],
   "source": [
    "#performing training (fit the model)\n",
    "dt = clf.fit(X_train, y_train)"
   ]
  },
  {
   "cell_type": "code",
   "execution_count": 15,
   "metadata": {},
   "outputs": [],
   "source": [
    "#function to produce decision tree image\n",
    "def show_tree(tree, features, path):\n",
    "    f=io.StringIO()\n",
    "    export_graphviz(tree, out_file=f, feature_names=features)\n",
    "    pydotplus.graph_from_dot_data(f.getvalue()).write_png(path)\n",
    "    img=misc.imread(path)\n",
    "    plt.rcParams[\"figure.figsize\"] = (20,20)\n",
    "    plt.imshow(img)"
   ]
  },
  {
   "cell_type": "code",
   "execution_count": 16,
   "metadata": {},
   "outputs": [
    {
     "name": "stderr",
     "output_type": "stream",
     "text": [
      "/anaconda3/lib/python3.7/site-packages/ipykernel_launcher.py:6: DeprecationWarning: `imread` is deprecated!\n",
      "`imread` is deprecated in SciPy 1.0.0, and will be removed in 1.2.0.\n",
      "Use ``imageio.imread`` instead.\n",
      "  \n"
     ]
    },
    {
     "data": {
      "image/png": "[encoded data removed]",
      "text/plain": [
       "<Figure size 1440x1440 with 1 Axes>"
      ]
     },
     "metadata": {
      "needs_background": "light"
     },
     "output_type": "display_data"
    }
   ],
   "source": [
    "show_tree(dt, features, \"student_data.png\")"
   ]
  },
  {
   "cell_type": "code",
   "execution_count": 17,
   "metadata": {},
   "outputs": [],
   "source": [
    "#to make preductions for target values.\n",
    "y_pred = clf.predict(X_test)"
   ]
  },
  {
   "cell_type": "markdown",
   "metadata": {},
   "source": [
    "### Accuracy of the Decision Tree Classifier model in predicting the gender of a student"
   ]
  },
  {
   "cell_type": "code",
   "execution_count": 18,
   "metadata": {},
   "outputs": [
    {
     "name": "stdout",
     "output_type": "stream",
     "text": [
      "Accuracy score using Decision Tree: 62.03%\n"
     ]
    }
   ],
   "source": [
    "accuracy = accuracy_score(y_test, y_pred)\n",
    "print(\"Accuracy score using Decision Tree: %.2f%%\" % (accuracy * 100.0))"
   ]
  },
  {
   "cell_type": "code",
   "execution_count": 19,
   "metadata": {},
   "outputs": [
    {
     "name": "stdout",
     "output_type": "stream",
     "text": [
      "Confusion matrix for Decision Tree Classifier model:\n",
      "[[28 10]\n",
      " [20 21]]\n"
     ]
    }
   ],
   "source": [
    "#confusion matrix\n",
    "cm = confusion_matrix(y_test, y_pred)\n",
    "print(\"Confusion matrix for Decision Tree Classifier model:\")\n",
    "print(cm)"
   ]
  },
  {
   "cell_type": "code",
   "execution_count": 20,
   "metadata": {},
   "outputs": [
    {
     "name": "stdout",
     "output_type": "stream",
     "text": [
      "True Positives: 21\n",
      "True Negatives: 28\n",
      "False Positives: 10\n",
      "False Negatives: 20\n"
     ]
    }
   ],
   "source": [
    "#splitting the confusion matrix into 4 parts\n",
    "tp = cm[1, 1]\n",
    "tn = cm[0, 0]\n",
    "fp = cm[0, 1]\n",
    "fn = cm[1, 0]\n",
    "\n",
    "print(\"True Positives:\", tp)\n",
    "print(\"True Negatives:\", tn)\n",
    "print(\"False Positives:\", fp)\n",
    "print(\"False Negatives:\", fn)"
   ]
  },
  {
   "cell_type": "code",
   "execution_count": 21,
   "metadata": {},
   "outputs": [
    {
     "name": "stdout",
     "output_type": "stream",
     "text": [
      "Sensitivity: 51.22%\n"
     ]
    }
   ],
   "source": [
    "sensitivity = tp / float(tp + fn)\n",
    "print(\"Sensitivity: %.2f%%\" % (sensitivity * 100))"
   ]
  },
  {
   "cell_type": "code",
   "execution_count": 22,
   "metadata": {},
   "outputs": [
    {
     "name": "stdout",
     "output_type": "stream",
     "text": [
      "Specificity: 73.68%\n"
     ]
    }
   ],
   "source": [
    "\n",
    "specificity= tn / float(tn + fp)\n",
    "print(\"Specificity: %.2f%%\" % (specificity * 100))"
   ]
  },
  {
   "cell_type": "code",
   "execution_count": 23,
   "metadata": {},
   "outputs": [
    {
     "name": "stdout",
     "output_type": "stream",
     "text": [
      "False Positive rate: 26.32%\n"
     ]
    }
   ],
   "source": [
    "FP = fp / float(tn + fp)\n",
    "print(\"False Positive rate: %.2f%%\" % (FP * 100))"
   ]
  },
  {
   "cell_type": "code",
   "execution_count": 24,
   "metadata": {},
   "outputs": [
    {
     "name": "stdout",
     "output_type": "stream",
     "text": [
      "Precision rate: 67.74%\n"
     ]
    }
   ],
   "source": [
    "prec = tp / float(fp + tp)\n",
    "print(\"Precision rate: %.2f%%\" % (prec * 100))"
   ]
  },
  {
   "cell_type": "markdown",
   "metadata": {},
   "source": [
    "### Actual proportion of girls in the study. Shows that the Decision Tree Classifier model does a little better than random."
   ]
  },
  {
   "cell_type": "code",
   "execution_count": 25,
   "metadata": {},
   "outputs": [
    {
     "name": "stdout",
     "output_type": "stream",
     "text": [
      "% of girls in the study: 52.66%\n"
     ]
    }
   ],
   "source": [
    "print(\"% of girls in the study: {0:.2%}\".format(girls / num_total))"
   ]
  },
  {
   "cell_type": "markdown",
   "metadata": {},
   "source": [
    "### Setting up the GridSearch CV model. This uses all the features given in the data. "
   ]
  },
  {
   "cell_type": "code",
   "execution_count": 26,
   "metadata": {},
   "outputs": [],
   "source": [
    "all_features = pd.get_dummies(df.loc[:, df.columns != 'sex'], drop_first=True)\n",
    "s_target = df.loc[:, 'sex']"
   ]
  },
  {
   "cell_type": "code",
   "execution_count": 27,
   "metadata": {},
   "outputs": [],
   "source": [
    "data_train = all_features.iloc[:395]\n",
    "#Problem with this. Does not give an array. data_train gives an array.\n",
    "data_test = all_features.iloc[:395]\n",
    "\n",
    "X = data_train.values\n",
    "test = data_test\n",
    "y = s_target.values\n"
   ]
  },
  {
   "cell_type": "code",
   "execution_count": 28,
   "metadata": {},
   "outputs": [],
   "source": [
    "# X = all_features\n",
    "# y = s_target"
   ]
  },
  {
   "cell_type": "code",
   "execution_count": 29,
   "metadata": {},
   "outputs": [],
   "source": [
    "# dep = np.arange(1, 9)\n",
    "# param_grid = {\"max_depth\" : dep}\n",
    "# tree = DecisionTreeClassifier()"
   ]
  },
  {
   "cell_type": "markdown",
   "metadata": {},
   "source": [
    "### Result of GridSearch CV shows that best Decision Tree Classifier model is at a max depth of 4 and this gives a model accuracy score of 0.72."
   ]
  },
  {
   "cell_type": "code",
   "execution_count": 30,
   "metadata": {},
   "outputs": [],
   "source": [
    "# from sklearn.model_selection import GridSearchCV\n",
    "# tree_cv = GridSearchCV(tree, param_grid=param_grid, cv=5)\n",
    "# tree_cv.fit(X, y)\n",
    "# print(\"Tuned Decision Tree Parameters: {}\".format(tree_cv.best_params_))\n",
    "# print(\"Best score is: {}\".format(tree_cv.best_score_))\n"
   ]
  },
  {
   "cell_type": "code",
   "execution_count": 31,
   "metadata": {},
   "outputs": [],
   "source": [
    "# Y_pred = tree_cv.predict(test)"
   ]
  },
  {
   "cell_type": "markdown",
   "metadata": {},
   "source": [
    "###  Setting up the Logistic Regression  model as an alternative to the Decision Tree Classifier model. This uses all the features given in the data. Aim is to predict the gender of a student based on the features.\n",
    "#### This model cannot be directly compared to the Decision Tree Classifier as they do not have the same number of features."
   ]
  },
  {
   "cell_type": "code",
   "execution_count": 32,
   "metadata": {},
   "outputs": [],
   "source": [
    "features = pd.get_dummies(df.loc[:, df.columns != 'sex'])\n",
    "target = df.loc[:, 'sex']"
   ]
  },
  {
   "cell_type": "code",
   "execution_count": 33,
   "metadata": {},
   "outputs": [],
   "source": [
    "X_train, X_test, y_train, y_test = train_test_split(features, target, test_size=0.2, random_state=42)"
   ]
  },
  {
   "cell_type": "code",
   "execution_count": 34,
   "metadata": {},
   "outputs": [
    {
     "data": {
      "text/plain": [
       "LogisticRegression(C=1.0, class_weight=None, dual=False, fit_intercept=True,\n",
       "          intercept_scaling=1, max_iter=100, multi_class='ovr', n_jobs=1,\n",
       "          penalty='l2', random_state=None, solver='liblinear', tol=0.0001,\n",
       "          verbose=0, warm_start=False)"
      ]
     },
     "execution_count": 34,
     "metadata": {},
     "output_type": "execute_result"
    }
   ],
   "source": [
    "logreg = LogisticRegression()\n",
    "logreg.fit(X_train, y_train)"
   ]
  },
  {
   "cell_type": "code",
   "execution_count": 35,
   "metadata": {},
   "outputs": [],
   "source": [
    "y_pred_class = logreg.predict(X_test)"
   ]
  },
  {
   "cell_type": "markdown",
   "metadata": {},
   "source": [
    "### Accuracy of the Logistic Regression model in predicting the gender of a student. This shows that the Logistic Regression model does a little better than random.¶"
   ]
  },
  {
   "cell_type": "code",
   "execution_count": 36,
   "metadata": {},
   "outputs": [
    {
     "name": "stdout",
     "output_type": "stream",
     "text": [
      "Accuracy score using Logistic Regression: 67.09%\n"
     ]
    }
   ],
   "source": [
    "lm_accuracy = metrics.accuracy_score(y_test, y_pred_class)\n",
    "print(\"Accuracy score using Logistic Regression: %.2f%%\" % (lm_accuracy * 100.0))"
   ]
  },
  {
   "cell_type": "code",
   "execution_count": 37,
   "metadata": {},
   "outputs": [
    {
     "name": "stdout",
     "output_type": "stream",
     "text": [
      "Confusion matrix for Logistic Regression model:\n",
      "[[25 13]\n",
      " [13 28]]\n"
     ]
    }
   ],
   "source": [
    "cm_log = metrics.confusion_matrix(y_test, y_pred_class)\n",
    "print(\"Confusion matrix for Logistic Regression model:\")\n",
    "print(cm_log)"
   ]
  },
  {
   "cell_type": "code",
   "execution_count": 38,
   "metadata": {},
   "outputs": [
    {
     "name": "stdout",
     "output_type": "stream",
     "text": [
      "True Positives: 28\n",
      "True Negatives: 25\n",
      "False Positives: 13\n",
      "False Negatives: 13\n"
     ]
    }
   ],
   "source": [
    "confusion = metrics.confusion_matrix(y_test, y_pred_class)\n",
    "TP = confusion[1, 1]\n",
    "TN = confusion[0, 0]\n",
    "FP = confusion[0, 1]\n",
    "FN = confusion[1, 0]\n",
    "\n",
    "print(\"True Positives:\", TP)\n",
    "print(\"True Negatives:\", TN)\n",
    "print(\"False Positives:\", FP)\n",
    "print(\"False Negatives:\", FN)"
   ]
  },
  {
   "cell_type": "code",
   "execution_count": 39,
   "metadata": {},
   "outputs": [
    {
     "name": "stdout",
     "output_type": "stream",
     "text": [
      "Sensitivity: 68.29%\n"
     ]
    }
   ],
   "source": [
    "sensitivity = TP / float(TP + FN)\n",
    "print(\"Sensitivity: %.2f%%\" % (sensitivity * 100))"
   ]
  },
  {
   "cell_type": "code",
   "execution_count": 40,
   "metadata": {},
   "outputs": [
    {
     "name": "stdout",
     "output_type": "stream",
     "text": [
      "Specificity: 65.79%\n"
     ]
    }
   ],
   "source": [
    "specificity= TN / float(TN + FP)\n",
    "print(\"Specificity: %.2f%%\" % (specificity * 100))"
   ]
  },
  {
   "cell_type": "code",
   "execution_count": 41,
   "metadata": {},
   "outputs": [
    {
     "name": "stdout",
     "output_type": "stream",
     "text": [
      "False Positive rate: 34.21%\n"
     ]
    }
   ],
   "source": [
    "fp = FP / float(TN + FP)\n",
    "print(\"False Positive rate: %.2f%%\" % (fp * 100))"
   ]
  },
  {
   "cell_type": "code",
   "execution_count": 42,
   "metadata": {},
   "outputs": [
    {
     "name": "stdout",
     "output_type": "stream",
     "text": [
      "Precision rate: 68.29%\n"
     ]
    }
   ],
   "source": [
    "precision = TP / float(FP + TP)\n",
    "print(\"Precision rate: %.2f%%\" % (precision * 100))"
   ]
  },
  {
   "cell_type": "code",
   "execution_count": null,
   "metadata": {},
   "outputs": [],
   "source": []
  }
 ],
 "metadata": {
  "kernelspec": {
   "display_name": "Python 3",
   "language": "python",
   "name": "python3"
  },
  "language_info": {
   "codemirror_mode": {
    "name": "ipython",
    "version": 3
   },
   "file_extension": ".py",
   "mimetype": "text/x-python",
   "name": "python",
   "nbconvert_exporter": "python",
   "pygments_lexer": "ipython3",
   "version": "3.7.1"
  }
 },
 "nbformat": 4,
 "nbformat_minor": 2
}
